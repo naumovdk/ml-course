{
 "cells": [
  {
   "cell_type": "code",
   "execution_count": 1,
   "metadata": {},
   "outputs": [],
   "source": [
    "import numpy as np\n",
    "import pandas as pd\n",
    "\n",
    "from sklearn.tree import DecisionTreeClassifier\n",
    "from sklearn.base import BaseEstimator\n",
    "from sklearn.preprocessing import normalize\n",
    "from sklearn.metrics import accuracy_score\n",
    "\n",
    "from matplotlib import pyplot as plt \n",
    "import seaborn as sns\n",
    "import imageio"
   ]
  },
  {
   "cell_type": "code",
   "execution_count": 2,
   "metadata": {},
   "outputs": [],
   "source": [
    "class AdaBoost(BaseEstimator):\n",
    "    def __init__(self, clfs=None, alphas=None, limit=55):\n",
    "        self.clfs = clfs\n",
    "        self.alphas = alphas\n",
    "        self.limit = limit\n",
    "\n",
    "\n",
    "    def fit(self, x_train, y_train):\n",
    "        self.clfs = []\n",
    "        self.alphas = []\n",
    "        ws = [1 / len(x_train) for _ in x_train.iterrows()]\n",
    "\n",
    "        for i in range(self.limit):\n",
    "            clf = DecisionTreeClassifier(max_depth=2).fit(x_train, y_train, sample_weight=ws)\n",
    "            predicted = [y_true == y_pred for y_true, y_pred in zip(y_train, clf.predict(x))]\n",
    "            \n",
    "            error = np.dot(np.logical_not(predicted).astype(int), ws)\n",
    "            alpha = np.log((1 - error) / error) / 2\n",
    "\n",
    "            ws = [w * np.exp(-alpha * (1 if p else -1)) for w, p in zip(ws, predicted)]\n",
    "            ws /= sum(ws)\n",
    "            \n",
    "            self.clfs.append(clf)\n",
    "            self.alphas.append(alpha)\n",
    "\n",
    "        return self\n",
    "\n",
    "\n",
    "    def predict(self, x_test):\n",
    "        all_predictions = np.transpose(list(map(lambda clf: clf.predict(x_test), self.clfs)))\n",
    "        return [np.sign(np.dot(self.alphas, list(map(int, predictions)))) for predictions in all_predictions]\n",
    "    \n",
    "    \n",
    "    def __getitem__(self, range):\n",
    "        return AdaBoost(self.clfs[range], self.alphas[range])"
   ]
  },
  {
   "cell_type": "code",
   "execution_count": 3,
   "metadata": {},
   "outputs": [],
   "source": [
    "df = pd.read_csv('chips.csv')\n",
    "df.replace({'P': 1, 'N': -1}, inplace=True)\n",
    "x = df[['x', 'y']]\n",
    "y = df['class']"
   ]
  },
  {
   "cell_type": "code",
   "execution_count": 4,
   "metadata": {},
   "outputs": [
    {
     "data": {
      "image/png": "[encoded data removed]",
      "text/plain": [
       "<Figure size 432x288 with 1 Axes>"
      ]
     },
     "metadata": {
      "needs_background": "light"
     },
     "output_type": "display_data"
    }
   ],
   "source": [
    "clf = AdaBoost().fit(x, y)\n",
    "ks = range(1, 55 + 1)\n",
    "plt.plot(ks, list(map(lambda k: accuracy_score(clf[:k].predict(x), y), ks)))\n",
    "plt.xlabel('Size of committee')\n",
    "plt.ylabel('Accuracy on train');"
   ]
  },
  {
   "cell_type": "code",
   "execution_count": 8,
   "metadata": {},
   "outputs": [],
   "source": [
    "def plot(df, clf, color='CMRmap', name=''):\n",
    "    x_min = df['x'].min()\n",
    "    x_max = df['x'].max()\n",
    "    y_min = df['y'].min()\n",
    "    y_max = df['y'].max()\n",
    "    xx = np.ogrid[x_min:x_max:10j]\n",
    "    yy = np.ogrid[y_min:y_max:10j]\n",
    "    space = [(xi, yi) for xi in xx for yi in yy]\n",
    "    x, y = zip(*space)\n",
    "\n",
    "    background = pd.DataFrame({'x': x, 'y': y, 'class': clf.predict(space)})    \n",
    "    zz = background['class'].to_numpy().reshape(len(xx), len(yy))\n",
    "    plt.contourf(yy, xx, zz, cmap=color, alpha=0.8)\n",
    "    plt.scatter(df['y'], df['x'], c=df['class'], cmap=color)\n",
    "    plt.title(name)\n",
    "    plt.savefig(name + '.png')\n",
    "# colors = ['Accent', 'Accent_r', 'Blues', 'Blues_r', 'BrBG', 'BrBG_r', 'BuGn', 'BuGn_r', 'BuPu', 'BuPu_r', 'CMRmap', 'CMRmap_r', 'Dark2', 'Dark2_r', 'GnBu', 'GnBu_r', 'Greens', 'Greens_r', 'Greys', 'Greys_r', 'OrRd', 'OrRd_r', 'Oranges', 'Oranges_r', 'PRGn', 'PRGn_r', 'Paired', 'Paired_r', 'Pastel1', 'Pastel1_r', 'Pastel2', 'Pastel2_r', 'PiYG', 'PiYG_r', 'PuBu', 'PuBuGn', 'PuBuGn_r', 'PuBu_r', 'PuOr', 'PuOr_r', 'PuRd', 'PuRd_r', 'Purples', 'Purples_r', 'RdBu', 'RdBu_r', 'RdGy', 'RdGy_r', 'RdPu', 'RdPu_r', 'RdYlBu', 'RdYlBu_r', 'RdYlGn', 'RdYlGn_r', 'Reds', 'Reds_r', 'Set1', 'Set1_r', 'Set2', 'Set2_r', 'Set3', 'Set3_r', 'Spectral', 'Spectral_r', 'Wistia', 'Wistia_r', 'YlGn', 'YlGnBu', 'YlGnBu_r', 'YlGn_r', 'YlOrBr', 'YlOrBr_r', 'YlOrRd', 'YlOrRd_r', 'afmhot', 'afmhot_r', 'autumn', 'autumn_r', 'binary', 'binary_r', 'bone', 'bone_r', 'brg', 'brg_r', 'bwr', 'bwr_r', 'cividis', 'cividis_r', 'cool', 'cool_r', 'coolwarm', 'coolwarm_r', 'copper', 'copper_r', 'crest', 'crest_r', 'cubehelix', 'cubehelix_r', 'flag', 'flag_r', 'flare', 'flare_r', 'gist_earth', 'gist_earth_r', 'gist_gray', 'gist_gray_r', 'gist_heat', 'gist_heat_r', 'gist_ncar', 'gist_ncar_r', 'gist_rainbow', 'gist_rainbow_r', 'gist_stern', 'gist_stern_r', 'gist_yarg', 'gist_yarg_r', 'gnuplot', 'gnuplot2', 'gnuplot2_r', 'gnuplot_r', 'gray', 'gray_r', 'hot', 'hot_r', 'hsv', 'hsv_r', 'icefire', 'icefire_r', 'inferno', 'inferno_r', 'jet', 'jet_r', 'magma', 'magma_r', 'mako', 'mako_r', 'nipy_spectral', 'nipy_spectral_r', 'ocean', 'ocean_r', 'pink', 'pink_r', 'plasma', 'plasma_r', 'prism', 'prism_r', 'rainbow', 'rainbow_r', 'rocket', 'rocket_r', 'seismic', 'seismic_r', 'spring', 'spring_r', 'summer', 'summer_r', 'tab10', 'tab10_r', 'tab20', 'tab20_r', 'tab20b', 'tab20b_r', 'tab20c', 'tab20c_r', 'terrain', 'terrain_r', 'twilight', 'twilight_r', 'twilight_shifted', 'twilight_shifted_r', 'viridis', 'viridis_r', 'vlag', 'vlag_r', 'winter', 'winter_r']"
   ]
  },
  {
   "cell_type": "code",
   "execution_count": 7,
   "metadata": {},
   "outputs": [],
   "source": [
    "name = lambda k: 'Iteration ' + str(k)\n",
    "\n",
    "ks = [1, 2, 3, 5, 8, 13, 21, 34, 55]\n",
    "for k in ks:\n",
    "    plot(df, clf[:k], name=name(k))\n",
    "\n",
    "images = []\n",
    "for filename in map(name, ks):\n",
    "    for _ in range(3):\n",
    "        images.append(imageio.imread(filename + '.png'))\n",
    "imageio.mimsave('evolution.gif', images)"
   ]
  },
  {
   "cell_type": "markdown",
   "metadata": {},
   "source": [
    "![SegmentLocal](evolution.gif \"segment\")"
   ]
  },
  {
   "cell_type": "code",
   "execution_count": null,
   "metadata": {},
   "outputs": [],
   "source": []
  }
 ],
 "metadata": {
  "kernelspec": {
   "display_name": "Python 3",
   "language": "python",
   "name": "python3"
  },
  "language_info": {
   "codemirror_mode": {
    "name": "ipython",
    "version": 3
   },
   "file_extension": ".py",
   "mimetype": "text/x-python",
   "name": "python",
   "nbconvert_exporter": "python",
   "pygments_lexer": "ipython3",
   "version": "3.7.4"
  }
 },
 "nbformat": 4,
 "nbformat_minor": 2
}