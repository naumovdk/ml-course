{
 "cells": [
  {
   "cell_type": "code",
   "execution_count": 845,
   "metadata": {},
   "outputs": [],
   "source": [
    "import numpy as np\n",
    "from sklearn.preprocessing import StandardScaler\n",
    "from random import randint\n",
    "from math import sqrt"
   ]
  },
  {
   "cell_type": "code",
   "execution_count": 855,
   "metadata": {
    "tags": []
   },
   "outputs": [],
   "source": [
    "def read(name):\n",
    "    with open(str(name) + \".txt\", \"r\") as file:\n",
    "        labels = int(file.readline())\n",
    "        train = [[float(x) for x in file.readline().split()] for _ in range(int(file.readline()))]\n",
    "        test  = [[float(x) for x in file.readline().split()] for _ in range(int(file.readline()))]\n",
    "        \n",
    "    return labels, np.asarray(train), np.asarray(test)\n",
    "\n",
    "\n",
    "def split(df):\n",
    "    ys = df[:, -1]\n",
    "    xs = df[:, :-1]\n",
    "    xs = np.append(xs, [[1]] * len(xs), axis=1)\n",
    "    return xs, ys\n",
    "\n",
    "\n",
    "def NRSME(orig, predicted):\n",
    "    return sqrt(sum(map(lambda p: (p[0] - p[1])**2, zip(orig, predicted))) / len(orig)) / (max(orig) - min(orig))\n",
    "\n",
    "\n",
    "def svd(x_train, y_train):\n",
    "    v, d, ut = np.linalg.svd(x_train, full_matrices=False)\n",
    "    vt = v.transpose()\n",
    "    di = np.linalg.inv(np.diag(d))\n",
    "    u = ut.transpose()\n",
    "    In = np.identity(len(d))\n",
    "    return u @ di @ vt @ y_train\n",
    "\n",
    "\n",
    "def stochastic_gradient_descent(x_train, y_train, labels, n=2000, h=0.001):\n",
    "    w = [0] * (labels + 1)\n",
    "    for i in range(n):\n",
    "        r = randint(0, len(x_train) - 1)\n",
    "        x = x_train[r]\n",
    "        y = y_train[r]\n",
    "        gradient = 2 * (y - (w @ x)) * (-1) * x\n",
    "\n",
    "        w -= gradient * h\n",
    "        h /= 1.001\n",
    "    return w\n",
    "\n",
    "\n",
    "def run(i):\n",
    "    labels, train, test = read(i)\n",
    "\n",
    "    scaler = StandardScaler()\n",
    "    scaler.fit(train)\n",
    "    train = scaler.transform(train)\n",
    "    test = scaler.transform(test)\n",
    "\n",
    "    x_train, y_train = split(train)\n",
    "    x_test, y_test = split(test)\n",
    "\n",
    "    print(\"Least squares:               \", NRSME(y_test, x_test @ svd(x_train, y_train)))\n",
    "    print(\"Stochastic gradient descent: \", NRSME(y_test, x_test @ stochastic_gradient_descent(x_train, y_train, labels)))"
   ]
  },
  {
   "cell_type": "code",
   "execution_count": 856,
   "metadata": {
    "tags": []
   },
   "outputs": [
    {
     "name": "stdout",
     "output_type": "stream",
     "text": [
      "Least squares:                6.581200838544606e-05\n",
      "Stochastic gradient descent:  0.00012671381357376297\n",
      "Least squares:                6.039958826789279e-06\n",
      "Stochastic gradient descent:  0.006055867087906975\n",
      "Least squares:                0.00220704358697072\n",
      "Stochastic gradient descent:  0.0006157434510500933\n",
      "Least squares:                0.00022320442109284398\n",
      "Stochastic gradient descent:  0.021946480593433498\n",
      "Least squares:                3.878491707762429e-08\n",
      "Stochastic gradient descent:  0.009441777550975042\n",
      "Least squares:                0.0005031535966597205\n",
      "Stochastic gradient descent:  0.00012400553367328658\n",
      "Least squares:                1.3541913242900425e-06\n",
      "Stochastic gradient descent:  0.00017484921558394483\n"
     ]
    }
   ],
   "source": [
    "for i in range(7):\n",
    "    run(i + 1)"
   ]
  }
 ],
 "metadata": {
  "kernelspec": {
   "display_name": "Python 3",
   "language": "python",
   "name": "python3"
  },
  "language_info": {
   "codemirror_mode": {
    "name": "ipython",
    "version": 3
   },
   "file_extension": ".py",
   "mimetype": "text/x-python",
   "name": "python",
   "nbconvert_exporter": "python",
   "pygments_lexer": "ipython3",
   "version": "3.7.4"
  }
 },
 "nbformat": 4,
 "nbformat_minor": 2
}
