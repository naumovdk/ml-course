{
 "cells": [
  {
   "cell_type": "code",
   "execution_count": 8,
   "metadata": {},
   "outputs": [],
   "source": [
    "import numpy as np\n",
    "\n",
    "from collections import Counter\n",
    "from math import exp, log\n",
    "\n",
    "from sklearn.base import BaseEstimator\n",
    "from sklearn.model_selection import GridSearchCV\n",
    "from sklearn.metrics import accuracy_score, make_scorer\n",
    "\n",
    "from os import listdir"
   ]
  },
  {
   "cell_type": "code",
   "execution_count": 9,
   "metadata": {},
   "outputs": [],
   "source": [
    "class Bayes(BaseEstimator):\n",
    "\tdef __init__(self, k=2, lambdas=[1, 1], alpha=1, n=1):\n",
    "\t\tself.k = k\n",
    "\t\tself.lambdas = lambdas\n",
    "\t\tself.alpha = alpha\n",
    "\t\tself.n = n\n",
    "\n",
    "\t\tself.x_count = set()\n",
    "\t\tself.c_count = Counter()\n",
    "\t\tself.p = []\n",
    "\n",
    "\t\n",
    "\tdef fit(self, x_train, y_train):\n",
    "\t\tx_train = x_train[self.n] \n",
    "\t\tdata = [Counter() for _ in range(self.k)]\n",
    "\t\tfor xs, c in zip(x_train, y_train):\n",
    "\t\t\tfor x in set(xs):\n",
    "\t\t\t\tself.x_count.add(x)\n",
    "\t\t\t\tdata[c][x] += 1\n",
    "\t\t\tself.c_count[c] += 1 \n",
    "\t\t\n",
    "\t\tself.p   = [{x:         (data[c][x] + self.alpha) / (self.c_count[c] + self.alpha * 2)  for x in self.x_count} for c in range(self.k)]\n",
    "\t\tself.pos = [{x: log(    (data[c][x] + self.alpha) / (self.c_count[c] + self.alpha * 2)) for x in self.x_count} for c in range(self.k)]\n",
    "\t\tself.neg = [{x: log(1 - (data[c][x] + self.alpha) / (self.c_count[c] + self.alpha * 2)) for x in self.x_count} for c in range(self.k)]\n",
    "\n",
    "\n",
    "\tdef calc_prob_of_xs_on_cond_of_c(self, xs, c):\n",
    "\t\tif self.c_count[c] == 0:\n",
    "\t\t\treturn 0\n",
    "\t\tres = log(self.c_count[c] / sum(self.c_count.values()))\n",
    "\t\tfor x in self.p[c]:\n",
    "\t\t\tif x in xs:\n",
    "\t\t\t\tres += self.pos[c][x]\n",
    "\t\t\telse:\n",
    "\t\t\t\tres += self.neg[c][x]\n",
    "\t\treturn exp(res) * self.lambdas[c]\n",
    "\n",
    "\n",
    "\tdef predict_one(self, xs):\n",
    "\t\txs = set(xs)\n",
    "\t\tdenum = sum([self.calc_prob_of_xs_on_cond_of_c(xs, c) for c in range(self.k)])\n",
    "\t\tres = []\n",
    "\t\tfor c in range(self.k):\n",
    "\t\t\tnum = self.calc_prob_of_xs_on_cond_of_c(xs, c)\n",
    "\t\t\tans = num / denum if denum != 0 else 1\n",
    "\t\t\tres.append(ans if num > 0 else 0)\n",
    "\t\treturn res\n",
    "\n",
    "\n",
    "\tdef predict(self, xs_test):\n",
    "\t\treturn [c.index(max(c)) for c in map(self.predict_one, xs_test)]"
   ]
  },
  {
   "cell_type": "code",
   "execution_count": 10,
   "metadata": {},
   "outputs": [
    {
     "output_type": "execute_result",
     "data": {
      "text/plain": [
       "['1 2', '2 3', '3 4']"
      ]
     },
     "metadata": {},
     "execution_count": 10
    }
   ],
   "source": [
    "def ngrams(text, n):\n",
    "    return [' '.join(map(str, text[i:i+n])) for i in range(len(text) - n + 1)]\n",
    "\n",
    "ngrams(['1', '2', '3', '4'], 2)"
   ]
  },
  {
   "cell_type": "code",
   "execution_count": 11,
   "metadata": {
    "tags": []
   },
   "outputs": [],
   "source": [
    "x, y = [], []\n",
    "\n",
    "for i in range(1, 10 + 1):\n",
    "    dir = 'part' + str(i)\n",
    "    for file_name in os.listdir(dir):\n",
    "        y.append(1 if 'spmsg' in file_name else 0)\n",
    "        with open(dir + '/' + file_name) as f:\n",
    "            subject = f.readline().split()[1:]\n",
    "            f.readline()\n",
    "            text = f.readline().split()\n",
    "        x.append(subject + text)"
   ]
  },
  {
   "cell_type": "code",
   "execution_count": 12,
   "metadata": {},
   "outputs": [],
   "source": [
    "def accuracy_wo_fp(true, predicted):\n",
    "    assert(len(true) == len(predicted))\n",
    "    num = 0\n",
    "    for t, p in zip(true, predicted):\n",
    "        num += t == p\n",
    "        if t == 0 and p != t:\n",
    "            return 0\n",
    "    return num / len(true)\n",
    "\n",
    "accuracy_wo_fp_score = make_scorer(accuracy_wo_fp, greater_is_better=True)"
   ]
  },
  {
   "cell_type": "code",
   "execution_count": 13,
   "metadata": {},
   "outputs": [
    {
     "output_type": "stream",
     "name": "stdout",
     "text": [
      "Wall time: 0 ns\n"
     ]
    }
   ],
   "source": [
    "%%time\n",
    "\n",
    "param_grid = {'alpha':   [1, 1e-1, 1e-2, 1e-2, 1e-4, 0]\n",
    "             ,'lambdas': [(1, l) for l in [1e-3, 1e4, 1e-5, 1e-6]]}\n",
    "\n",
    "# clf = GridSearchCV(Bayes(), param_grid, cv=3, n_jobs=-1, scoring=accuracy_wo_fp_score)\n",
    "# clf.fit(x, y)\n",
    "# clf.best_score_, clf.best_params_"
   ]
  },
  {
   "cell_type": "code",
   "execution_count": 7,
   "metadata": {},
   "outputs": [
    {
     "output_type": "error",
     "ename": "NameError",
     "evalue": "name 'param_grid' is not defined",
     "traceback": [
      "\u001b[1;31m---------------------------------------------------------------------------\u001b[0m",
      "\u001b[1;31mNameError\u001b[0m                                 Traceback (most recent call last)",
      "\u001b[1;32m<ipython-input-7-e8c3591f1306>\u001b[0m in \u001b[0;36m<module>\u001b[1;34m\u001b[0m\n\u001b[0;32m      1\u001b[0m \u001b[0mn2\u001b[0m \u001b[1;33m=\u001b[0m \u001b[1;33m[\u001b[0m\u001b[0mngrams\u001b[0m\u001b[1;33m(\u001b[0m\u001b[0mm\u001b[0m\u001b[1;33m,\u001b[0m \u001b[1;36m2\u001b[0m\u001b[1;33m)\u001b[0m \u001b[1;32mfor\u001b[0m \u001b[0mm\u001b[0m \u001b[1;32min\u001b[0m \u001b[0mx\u001b[0m\u001b[1;33m]\u001b[0m\u001b[1;33m\u001b[0m\u001b[1;33m\u001b[0m\u001b[0m\n\u001b[0;32m      2\u001b[0m \u001b[1;33m\u001b[0m\u001b[0m\n\u001b[1;32m----> 3\u001b[1;33m \u001b[0mclf\u001b[0m \u001b[1;33m=\u001b[0m \u001b[0mGridSearchCV\u001b[0m\u001b[1;33m(\u001b[0m\u001b[0mBayes\u001b[0m\u001b[1;33m(\u001b[0m\u001b[1;33m)\u001b[0m\u001b[1;33m,\u001b[0m \u001b[0mparam_grid\u001b[0m\u001b[1;33m,\u001b[0m \u001b[0mcv\u001b[0m\u001b[1;33m=\u001b[0m\u001b[1;36m3\u001b[0m\u001b[1;33m,\u001b[0m \u001b[0mn_jobs\u001b[0m\u001b[1;33m=\u001b[0m\u001b[1;33m-\u001b[0m\u001b[1;36m1\u001b[0m\u001b[1;33m,\u001b[0m \u001b[0mscoring\u001b[0m\u001b[1;33m=\u001b[0m\u001b[0maccuracy_wo_fp_score\u001b[0m\u001b[1;33m)\u001b[0m\u001b[1;33m\u001b[0m\u001b[1;33m\u001b[0m\u001b[0m\n\u001b[0m\u001b[0;32m      4\u001b[0m \u001b[0mclf\u001b[0m\u001b[1;33m.\u001b[0m\u001b[0mfit\u001b[0m\u001b[1;33m(\u001b[0m\u001b[0mn2\u001b[0m\u001b[1;33m,\u001b[0m \u001b[0my\u001b[0m\u001b[1;33m)\u001b[0m\u001b[1;33m\u001b[0m\u001b[1;33m\u001b[0m\u001b[0m\n\u001b[0;32m      5\u001b[0m \u001b[0mclf\u001b[0m\u001b[1;33m.\u001b[0m\u001b[0mbest_score_\u001b[0m\u001b[1;33m,\u001b[0m \u001b[0mclf\u001b[0m\u001b[1;33m.\u001b[0m\u001b[0mbest_params_\u001b[0m\u001b[1;33m\u001b[0m\u001b[1;33m\u001b[0m\u001b[0m\n",
      "\u001b[1;31mNameError\u001b[0m: name 'param_grid' is not defined"
     ]
    }
   ],
   "source": [
    "%%time\n",
    "\n",
    "x2 = [ngrams(x, 2) for m in x]\n",
    "\n",
    "clf = GridSearchCV(Bayes(), param_grid, cv=3, n_jobs=-1, scoring=accuracy_wo_fp_score)\n",
    "clf.fit(x2, y)\n",
    "clf.best_score_, clf.best_params_"
   ]
  },
  {
   "cell_type": "code",
   "execution_count": null,
   "metadata": {},
   "outputs": [],
   "source": []
  }
 ],
 "metadata": {
  "kernelspec": {
   "display_name": "Python 3",
   "language": "python",
   "name": "python3"
  },
  "language_info": {
   "codemirror_mode": {
    "name": "ipython",
    "version": 3
   },
   "file_extension": ".py",
   "mimetype": "text/x-python",
   "name": "python",
   "nbconvert_exporter": "python",
   "pygments_lexer": "ipython3",
   "version": "3.7.6-final"
  }
 },
 "nbformat": 4,
 "nbformat_minor": 2
}