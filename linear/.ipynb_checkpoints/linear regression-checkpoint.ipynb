{
 "cells": [
  {
   "cell_type": "code",
   "execution_count": 30,
   "metadata": {},
   "outputs": [],
   "source": [
    "import numpy as np\n",
    "import random\n",
    "from math import sqrt\n",
    "from collections import OrderedDict"
   ]
  },
  {
   "cell_type": "code",
   "execution_count": 2,
   "metadata": {},
   "outputs": [
    {
     "data": {
      "text/plain": [
       "(128, 4353)"
      ]
     },
     "execution_count": 2,
     "metadata": {},
     "output_type": "execute_result"
    }
   ],
   "source": [
    "with open(\"cf-d/0.40_0.65.txt\", \"r\") as f:\n",
    "    n = int(f.readline())\n",
    "    m = int(f.readline())\n",
    "\n",
    "    x_train = []\n",
    "    y_train = []\n",
    "    \n",
    "    for line in f.readlines():\n",
    "        line = [int(p) for p in line.split()]\n",
    "        y_train.append(line.pop(-1))\n",
    "        x_train.append(line)\n",
    "        \n",
    "len(x_train[0]), len(y_train)"
   ]
  },
  {
   "cell_type": "code",
   "execution_count": 35,
   "metadata": {},
   "outputs": [
    {
     "ename": "SyntaxError",
     "evalue": "invalid syntax (<ipython-input-35-d7ffba0817ea>, line 5)",
     "output_type": "error",
     "traceback": [
      "\u001b[1;36m  File \u001b[1;32m\"<ipython-input-35-d7ffba0817ea>\"\u001b[1;36m, line \u001b[1;32m5\u001b[0m\n\u001b[1;33m    for col, i in zip(res, range(len(res)):\u001b[0m\n\u001b[1;37m                                          ^\u001b[0m\n\u001b[1;31mSyntaxError\u001b[0m\u001b[1;31m:\u001b[0m invalid syntax\n"
     ]
    }
   ],
   "source": [
    "ks, bs = dict(), dict()\n",
    "\n",
    "def normalized(df):\n",
    "    res = np.array(df).transpose()\n",
    "    for col, i in zip(res, range(len(res)):\n",
    "        m = min(col)\n",
    "        d = max(col) - m\n",
    "        if not i in ks.keys() or not i in bs.keys():\n",
    "            bs[i] = m\n",
    "            ks[i] = d\n",
    "            \n",
    "        col -= bs[i]\n",
    "        col /= ks[i]\n",
    "    return res.transpose()\n",
    "    \n",
    "\n",
    "def denormalized(df):\n",
    "    res = df.transpose()\n",
    "    for col, k, b in zip(res, ks.values(), bs.values()):\n",
    "        col *= k\n",
    "        col += b        \n",
    "    return res.transpose()\n",
    "    \n",
    "    \n",
    "train = [[1.,2.],[3.,4.]]\n",
    "print(denormalized(normalized(train)))\n",
    "test = [[2., 4.], [6., 8.]]\n",
    "print(normalized(test))\n",
    "denormalized(normalized(test))"
   ]
  },
  {
   "cell_type": "code",
   "execution_count": 34,
   "metadata": {},
   "outputs": [
    {
     "data": {
      "text/plain": [
       "(array([[-0.2298477 ,  0.88346102,  0.40824829],\n",
       "        [-0.52474482,  0.24078249, -0.81649658],\n",
       "        [-0.81964194, -0.40189603,  0.40824829]]),\n",
       " array([9.52551809, 0.51430058]),\n",
       " array([[-0.61962948, -0.78489445],\n",
       "        [-0.78489445,  0.61962948]]))"
      ]
     },
     "execution_count": 34,
     "metadata": {},
     "output_type": "execute_result"
    }
   ],
   "source": [
    "test = [[1,2], [3,4], [5,6]]\n",
    "v, d, u = np.linalg.svd(test)\n",
    "\n",
    "v, d, u\n",
    "\n",
    "def svd_predict(x_train):\n",
    "    "
   ]
  },
  {
   "cell_type": "code",
   "execution_count": 33,
   "metadata": {},
   "outputs": [
    {
     "data": {
      "text/plain": [
       "0.5"
      ]
     },
     "execution_count": 33,
     "metadata": {},
     "output_type": "execute_result"
    }
   ],
   "source": [
    "def NRSME(orig, predicted):\n",
    "    return sqrt(sum(map(lambda p: (p[0] - p[1])**2, zip(orig, predicted))) / len(orig)) / (max(orig) - min(orig))\n",
    "    \n",
    "    \n",
    "NRSME([1,2,3], [2,3,4])"
   ]
  }
 ],
 "metadata": {
  "kernelspec": {
   "display_name": "Python 3",
   "language": "python",
   "name": "python3"
  },
  "language_info": {
   "codemirror_mode": {
    "name": "ipython",
    "version": 3
   },
   "file_extension": ".py",
   "mimetype": "text/x-python",
   "name": "python",
   "nbconvert_exporter": "python",
   "pygments_lexer": "ipython3",
   "version": "3.7.4"
  }
 },
 "nbformat": 4,
 "nbformat_minor": 2
}
