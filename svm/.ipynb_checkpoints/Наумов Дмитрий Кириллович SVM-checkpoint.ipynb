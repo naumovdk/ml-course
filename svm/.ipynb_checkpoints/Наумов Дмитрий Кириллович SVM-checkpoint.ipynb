{
 "cells": [
  {
   "cell_type": "code",
   "execution_count": null,
   "metadata": {},
   "outputs": [],
   "source": [
    "# C:\\Program Files (x86)\\mingw-w64\\i686-8.1.0-posix-dwarf-rt_v6-rev0\\mingw32\\bin\n",
    "%time\n",
    "import numpy as np\n",
    "import pandas as pd\n",
    "import seaborn as sns\n",
    "import matplotlib.pyplot as plt\n",
    "\n",
    "from sklearn.base import BaseEstimator\n",
    "from sklearn.model_selection import GridSearchCV\n",
    "from sklearn.metrics import accuracy_score, make_scorer\n",
    "\n",
    "from math import exp, sqrt\n",
    "from collections import defaultdict\n",
    "\n",
    "from subprocess import run, PIPE\n",
    "from sys import stdout\n",
    "from io import StringIO"
   ]
  },
  {
   "cell_type": "code",
   "execution_count": 2,
   "metadata": {},
   "outputs": [],
   "source": [
    "def linear(x, y):\n",
    "    return x @ y\n",
    "\n",
    "\n",
    "linear = [linear]\n",
    "polynomial = []\n",
    "guassian = []\n",
    "\n",
    "for p in range(2, 5 + 1):\n",
    "    name = f'polynomial_{p}'\n",
    "    exec(f'def {name}(x, y): return (1 + x @ y)**{p}')\n",
    "    exec(f'polynomial.append({name})')\n",
    "\n",
    "for b in range(1, 5 + 1):\n",
    "    name = f'guassian_{b}'\n",
    "    exec(f'def {name}(x, y): return exp(-{b} * np.linalg.norm(x - y)**2)')\n",
    "    exec(f'guassian.append({name})')"
   ]
  },
  {
   "cell_type": "code",
   "execution_count": 3,
   "metadata": {
    "tags": []
   },
   "outputs": [],
   "source": [
    "class SVM(BaseEstimator):\n",
    "    def __init__(self, kernel=None, C=None):\n",
    "        super().__init__()\n",
    "        self.kernel = kernel\n",
    "        self.C = C\n",
    "        self.x_train = None\n",
    "        self.y_train = None\n",
    "        self.lambdas = None\n",
    "        self.b = None\n",
    "        self.distances = None\n",
    "        self.io = StringIO()\n",
    "        self.score = None\n",
    "\n",
    "\n",
    "    def calc_matrix(self, x):\n",
    "        n = x.shape[0]\n",
    "        self.distances = np.fromfunction(np.vectorize(lambda i, j: self.kernel(x[i], x[j])), (n, n), dtype=int)\n",
    "\n",
    "\n",
    "    def fit(self, x, y):\n",
    "        self.x_train = x\n",
    "        self.y_train = y\n",
    "        self.calc_matrix(x)\n",
    "\n",
    "        np.savetxt(self.io, np.c_[self.distances, y], fmt='%.8f')\n",
    "        args = str(self.distances.shape[0]) + '\\n' + self.io.getvalue() + str(self.C)\n",
    "        output = run(['smo/cmake-build-debug/smo.exe'], stdout=PIPE, input=args, encoding='ascii').stdout.split('\\n')\n",
    "\n",
    "        *self.lambdas, self.b  = map(float, output)\n",
    "        \n",
    "\n",
    "    def predict(self, x):\n",
    "        ans = []\n",
    "        for obj in x:\n",
    "            res = self.b\n",
    "            for l, xi, yi in zip(self.lambdas, self.x_train, self.y_train):\n",
    "                res += l * yi * self.kernel(obj, xi)\n",
    "            ans.append(res / abs(res))\n",
    "        return np.asarray(ans)"
   ]
  },
  {
   "cell_type": "code",
   "execution_count": 4,
   "metadata": {},
   "outputs": [],
   "source": [
    "dataframes = list(map(lambda name: pd.read_csv(name + '.csv'), ['chips', 'geyser']))\n",
    "for d in dataframes:\n",
    "    d.replace({'P': 1, 'N': -1}, inplace=True)\n",
    "dataframes[0];"
   ]
  },
  {
   "cell_type": "code",
   "execution_count": 5,
   "metadata": {},
   "outputs": [],
   "source": [
    "models = defaultdict(list)\n",
    "\n",
    "def compute_models(df_i):\n",
    "    df = dataframes[df_i]\n",
    "    x_raw = df[['x', 'y']].to_numpy()\n",
    "    y_raw = df['class'].to_numpy()\n",
    "\n",
    "    for kernel_type in [linear, polynomial, guassian]:\n",
    "        param_grid = {'kernel': kernel_type,\n",
    "                      'C': [0.05, 0.1, 0.5, 1.0, 5.0, 10.0, 50.0, 100.0]}\n",
    "    \n",
    "        clf = GridSearchCV(SVM(), param_grid, cv=5, iid='deprecated', scoring='accuracy')    \n",
    "        clf.fit(x_raw, y_raw)\n",
    "        models[df_i].append(clf.best_estimator_)"
   ]
  },
  {
   "cell_type": "code",
   "execution_count": 6,
   "metadata": {},
   "outputs": [],
   "source": [
    "def plot(df_i, model):\n",
    "    df = dataframes[df_i]\n",
    "    x_min = df['x'].min()\n",
    "    x_max = df['x'].max()\n",
    "    y_min = df['y'].min()\n",
    "    y_max = df['y'].max()\n",
    "    x = xx = np.ogrid[x_min:x_max:50j]\n",
    "    y = yy = np.ogrid[y_min:y_max:50j]\n",
    "    space = [(xi, yi) for xi in x for yi in y]\n",
    "    x, y = zip(*space)\n",
    "\n",
    "    background = pd.DataFrame({'x': x, 'y': y, 'class': model.predict(space)})    \n",
    "    zz = background['class'].to_numpy().reshape(len(xx), len(yy))\n",
    "    plt.contourf(xx, yy, zz, cmap=plt.cm.coolwarm, alpha=0.8)\n",
    "    plt.scatter(df['x'], df['y'], c=df['class'], cmap=plt.cm.coolwarm)\n",
    "    plt.show()\n",
    "\n",
    "    # sns.jointplot(x='x', y='y', data=background, hue='class')"
   ]
  },
  {
   "cell_type": "code",
   "execution_count": null,
   "metadata": {
    "tags": []
   },
   "outputs": [],
   "source": [
    "# compute_models(0)\n",
    "compute_models(1)\n",
    "models"
   ]
  },
  {
   "cell_type": "code",
   "execution_count": null,
   "metadata": {},
   "outputs": [],
   "source": [
    "for ds, ms in models.items():\n",
    "    print(ds)\n",
    "    for m in ms:\n",
    "        print(m.C, m.kernel.__name__)"
   ]
  },
  {
   "cell_type": "code",
   "execution_count": null,
   "metadata": {},
   "outputs": [],
   "source": [
    "plot(1, models[1][0])"
   ]
  },
  {
   "cell_type": "code",
   "execution_count": null,
   "metadata": {},
   "outputs": [],
   "source": [
    "show('geyser')"
   ]
  },
  {
   "cell_type": "code",
   "execution_count": null,
   "metadata": {},
   "outputs": [],
   "source": []
  }
 ],
 "metadata": {
  "kernelspec": {
   "display_name": "Python 3",
   "language": "python",
   "name": "python3"
  },
  "language_info": {
   "codemirror_mode": {
    "name": "ipython",
    "version": 3
   },
   "file_extension": ".py",
   "mimetype": "text/x-python",
   "name": "python",
   "nbconvert_exporter": "python",
   "pygments_lexer": "ipython3",
   "version": "3.7.6"
  }
 },
 "nbformat": 4,
 "nbformat_minor": 2
}
