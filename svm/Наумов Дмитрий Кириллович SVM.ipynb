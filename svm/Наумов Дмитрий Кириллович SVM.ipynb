{
 "metadata": {
  "language_info": {
   "codemirror_mode": {
    "name": "ipython",
    "version": 3
   },
   "file_extension": ".py",
   "mimetype": "text/x-python",
   "name": "python",
   "nbconvert_exporter": "python",
   "pygments_lexer": "ipython3",
   "version": "3.7.4-final"
  },
  "orig_nbformat": 2,
  "kernelspec": {
   "name": "Python 3.7.4 64-bit ('base': conda)",
   "display_name": "Python 3.7.4 64-bit ('base': conda)",
   "metadata": {
    "interpreter": {
     "hash": "4b87a28dc95adf4d1680d185ae7b7a7c97b1546ab6f16bd01e649d8d7ba0a024"
    }
   }
  }
 },
 "nbformat": 4,
 "nbformat_minor": 2,
 "cells": [
  {
   "cell_type": "code",
   "execution_count": 288,
   "metadata": {},
   "outputs": [],
   "source": [
    "import numpy as np\n",
    "import pandas as pd\n",
    "from sklearn.preprocessing import StandardScaler\n",
    "from math import exp, sqrt"
   ]
  },
  {
   "cell_type": "code",
   "execution_count": 289,
   "metadata": {},
   "outputs": [],
   "source": [
    "df = pd.read_csv(\"chips.csv\")\n",
    "df['class'].replace({'P': 1, 'N': -1}, inplace=True)"
   ]
  },
  {
   "cell_type": "code",
   "execution_count": 290,
   "metadata": {},
   "outputs": [],
   "source": [
    "def linear(x, y):\n",
    "    return x @ y\n",
    "\n",
    "\n",
    "kernels = [linear]\n",
    "\n",
    "for p in range(2, 5 + 1):\n",
    "    name = f'polynomial_{p}'\n",
    "    exec(f'def {name}(x, y): return (1 + x @ y)**{p}')\n",
    "    exec(f'kernels.append({name})')\n",
    "\n",
    "for b in range(1, 5 + 1):\n",
    "    name = f'guassian_{b}'\n",
    "    exec(f'def {name}(x, y): return exp({b} * np.linalg.norm(x - y)**2)')\n",
    "    exec(f'kernels.append({name})')"
   ]
  },
  {
   "cell_type": "code",
   "execution_count": 291,
   "metadata": {},
   "outputs": [],
   "source": [
    "a = np.array([1, 1])\n",
    "b = np.array([3, 2])"
   ]
  },
  {
   "cell_type": "code",
   "execution_count": 292,
   "metadata": {},
   "outputs": [
    {
     "output_type": "execute_result",
     "data": {
      "text/plain": [
       "array([0.051267, 0.69956 ])"
      ]
     },
     "metadata": {},
     "execution_count": 292
    }
   ],
   "source": [
    "from sklearn.model_selection import train_test_split\n",
    "\n",
    "X = df[['x', 'y']]\n",
    "y = df[['class']]\n",
    "\n",
    "a = X.to_numpy()[0]\n",
    "b = X.to_numpy()[1]\n",
    "\n",
    "linear(a,b)\n",
    "X[:3].to_numpy()[0]"
   ]
  },
  {
   "cell_type": "code",
   "execution_count": 293,
   "metadata": {
    "tags": []
   },
   "outputs": [
    {
     "output_type": "stream",
     "name": "stdout",
     "text": [
      "[0.0, 0.0, 0.0, 0.0, 0.0, 0.0, 0.0, 100.0, 86.1555, 100.0, 99.9528, 22.0492, 0.0, 100.0, 100.0, 8.11602, 0.0, 100.0, 0.0, 56.9632, 100.0, 100.0, 100.0, 100.0, 100.0, 100.0, 0.0, 100.0, 0.0, 73.624, 100.0, 43.6272, 0.0, 0.0, 0.0, 0.0, 42.604, 0.0, 0.0, 0.0, 0.0, 0.0, 0.0, 0.0, 6.9913, 0.0, 100.0, 0.0, 100.0, 100.0, 0.0, 0.0, 0.0, 0.0, 0.0, 0.0, 0.0, 0.0, 0.0, 100.0, 100.0, 0.0, 0.0, 100.0, 4.96223, 0.0, 77.4661, 0.0, 0.0, 24.5195, 0.0, 0.0, 0.0, 7.57128, 18.2297, 100.0, 100.0, 100.0, 0.0, 0.0, 100.0, 100.0, 0.0, 100.0, 0.0, 0.0, 25.2982, 0.0, 100.0, 65.5997, 0.0, 100.0, 100.0, 67.3207, 0.0, 0.0, 0.0, 0.0, 0.0, 0.0, 0.0, 0.0, 0.0, 0.0, 100.0, 0.0, 100.0, 100.0, 46.5236, 0.0, 0.0, 0.0, 0.0, 2.59218, 100.0, 0.0, 0.0, 100.0] 3.04335\n"
     ]
    },
    {
     "output_type": "execute_result",
     "data": {
      "text/plain": [
       "array([1.50926723])"
      ]
     },
     "metadata": {},
     "execution_count": 293
    }
   ],
   "source": [
    "from subprocess import run, PIPE\n",
    "from sys import stdout\n",
    "from io import StringIO\n",
    "\n",
    "class SVM:\n",
    "    def __init__(self, kernel, C):\n",
    "        self.kernel = kernel\n",
    "        self.C = C\n",
    "        self.X_train = None\n",
    "        self.y_train = None\n",
    "        self.lambdas = None\n",
    "        self.b = None\n",
    "        self.distances = None\n",
    "        self.io = StringIO()\n",
    "\n",
    "\n",
    "    def calc_matrix(self, X):\n",
    "        n = X.shape[0]\n",
    "        self.distances = np.fromfunction(np.vectorize(lambda i, j: self.kernel(X[i], X[j])), (n, n), dtype=int)\n",
    "\n",
    "\n",
    "    def fit(self, X, y):\n",
    "        self.X_train = X\n",
    "        self.y_train = y\n",
    "        self.calc_matrix(X)\n",
    "\n",
    "        np.savetxt(self.io, np.append(self.distances, y, axis=1), fmt='%.8f')\n",
    "        args = str(self.distances.shape[0]) + '\\n' + self.io.getvalue() + str(self.C)\n",
    "        # print(args)\n",
    "        *self.lambdas, self.b  = map(float, run(['smo.exe'], stdout=PIPE, input=args, encoding='ascii').stdout.split('\\n'))\n",
    "        print(self.lambdas, self.b)\n",
    "        return self\n",
    "        \n",
    "\n",
    "    def predict(self, X):\n",
    "        res = self.b\n",
    "        for l, yi, x in zip(self.lambdas, y_train, self.X_train):\n",
    "            res += l * yi * self.kernel(X, x)\n",
    "        return res\n",
    "\n",
    "svm = SVM(polynomial_4, 100)\n",
    "X_train = X.to_numpy()\n",
    "y_train = y.to_numpy()\n",
    "svm.fit(X_train, y_train)\n",
    "svm.predict(X_train[0])"
   ]
  },
  {
   "cell_type": "code",
   "execution_count": 294,
   "metadata": {},
   "outputs": [
    {
     "output_type": "execute_result",
     "data": {
      "text/plain": [
       "['0', '0', '1', '1', '0', '0', '-5']"
      ]
     },
     "metadata": {},
     "execution_count": 294
    }
   ],
   "source": [
    "from subprocess import Popen, PIPE, run\n",
    "\n",
    "s='6 5 4 6 9 11 10 -1 4 5 6 9 10 11 -1 6 6 8 12 14 14 -1 9 9 12 18 21 21 1 11 10 14 21 25 24 1 10 11 14 21 24 25 1 1'\n",
    "run(['smo.exe'], stdout=PIPE, input=s, encoding='ascii').stdout.split('\\n')"
   ]
  }
 ]
}